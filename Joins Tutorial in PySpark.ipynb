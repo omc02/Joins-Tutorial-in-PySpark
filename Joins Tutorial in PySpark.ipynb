{
 "cells": [
  {
   "cell_type": "code",
   "execution_count": 1,
   "metadata": {},
   "outputs": [
    {
     "data": {
      "text/plain": [
       "' Notebook Information '"
      ]
     },
     "execution_count": 1,
     "metadata": {},
     "output_type": "execute_result"
    }
   ],
   "source": [
    "\"\"\" Notebook Information \"\"\"\n",
    "# References: https://www.geeksforgeeks.org/pyspark-join-types-join-two-dataframes/\n",
    "# Workbook Title: PySpark Joins Tutorial - PySpark and SQL syntax"
   ]
  },
  {
   "cell_type": "code",
   "execution_count": 2,
   "metadata": {},
   "outputs": [],
   "source": [
    "\"\"\" Importing libraries \"\"\"\n",
    "import pandas as pd \n",
    "import numpy as np \n",
    "import findspark\n",
    "findspark.init()\n",
    "import pyspark\n",
    "from pyspark import SparkContext \n",
    "from pyspark.sql import SparkSession"
   ]
  },
  {
   "cell_type": "code",
   "execution_count": 3,
   "metadata": {},
   "outputs": [
    {
     "name": "stdout",
     "output_type": "stream",
     "text": [
      "3.0.3\n"
     ]
    }
   ],
   "source": [
    "\"\"\" Instantiate a SparkContext \"\"\"\n",
    "sc = SparkContext.getOrCreate()\n",
    "\n",
    "## Print the Spark version\n",
    "print(sc.version)"
   ]
  },
  {
   "cell_type": "code",
   "execution_count": 4,
   "metadata": {},
   "outputs": [],
   "source": [
    "\"\"\" Creating a SparkSession \"\"\" \n",
    "spark = SparkSession.builder.appName('JoinsTutorial').getOrCreate()"
   ]
  },
  {
   "cell_type": "code",
   "execution_count": 5,
   "metadata": {},
   "outputs": [],
   "source": [
    "\"\"\" creatring employees table \"\"\"\n",
    "# list  of employee data\n",
    "data1 = [[\"1\", \"sravan\", \"company 1\"],\n",
    "        [\"2\", \"ojaswi\", \"company 1\"], \n",
    "        [\"3\", \"rohith\", \"company 2\"],\n",
    "        [\"4\", \"sridevi\", \"company 1\"], \n",
    "        [\"5\", \"bobby\", \"company 1\"]]\n",
    "  \n",
    "# specify column names\n",
    "columns = ['ID', 'NAME', 'Company']\n",
    "  \n",
    "# creating a df1 from the lists of data\n",
    "df1 = spark.createDataFrame(data1, columns)"
   ]
  },
  {
   "cell_type": "code",
   "execution_count": 6,
   "metadata": {},
   "outputs": [],
   "source": [
    "\"\"\" creating department table \"\"\"\n",
    "# list  of employee data\n",
    "data2 = [[\"1\", \"45000\", \"IT\"],\n",
    "         [\"2\", \"145000\", \"Manager\"],\n",
    "         [\"6\", \"45000\", \"HR\"],\n",
    "         [\"5\", \"34000\", \"Sales\"]]\n",
    "  \n",
    "# specify column names\n",
    "columns = ['ID', 'salary', 'department']\n",
    "  \n",
    "# creating a df1 from the lists of data\n",
    "df2 = spark.createDataFrame(data2, columns)"
   ]
  },
  {
   "cell_type": "code",
   "execution_count": 7,
   "metadata": {},
   "outputs": [
    {
     "name": "stdout",
     "output_type": "stream",
     "text": [
      "+---+-------+---------+\n",
      "|ID |NAME   |Company  |\n",
      "+---+-------+---------+\n",
      "|1  |sravan |company 1|\n",
      "|2  |ojaswi |company 1|\n",
      "|3  |rohith |company 2|\n",
      "|4  |sridevi|company 1|\n",
      "|5  |bobby  |company 1|\n",
      "+---+-------+---------+\n",
      "\n"
     ]
    }
   ],
   "source": [
    "\"\"\" Checking the dataframe \"\"\"\n",
    "# checking the dataframe  \n",
    "df1.show(truncate=False)"
   ]
  },
  {
   "cell_type": "code",
   "execution_count": 8,
   "metadata": {},
   "outputs": [
    {
     "name": "stdout",
     "output_type": "stream",
     "text": [
      "+---+------+----------+\n",
      "|ID |salary|department|\n",
      "+---+------+----------+\n",
      "|1  |45000 |IT        |\n",
      "|2  |145000|Manager   |\n",
      "|6  |45000 |HR        |\n",
      "|5  |34000 |Sales     |\n",
      "+---+------+----------+\n",
      "\n"
     ]
    }
   ],
   "source": [
    "\"\"\" Checking the dataframe \"\"\"\n",
    "df2.show(truncate=False)"
   ]
  },
  {
   "cell_type": "code",
   "execution_count": 9,
   "metadata": {},
   "outputs": [
    {
     "name": "stdout",
     "output_type": "stream",
     "text": [
      "+---+------+---------+---+------+----------+\n",
      "|ID |NAME  |Company  |ID |salary|department|\n",
      "+---+------+---------+---+------+----------+\n",
      "|5  |bobby |company 1|5  |34000 |Sales     |\n",
      "|1  |sravan|company 1|1  |45000 |IT        |\n",
      "|2  |ojaswi|company 1|2  |145000|Manager   |\n",
      "+---+------+---------+---+------+----------+\n",
      "\n"
     ]
    }
   ],
   "source": [
    "\"\"\" Example 1 - Inner Join example \"\"\"\n",
    "df1.join(df2, df1.ID == df2.ID, \"inner\").show(truncate=False)"
   ]
  },
  {
   "cell_type": "code",
   "execution_count": 10,
   "metadata": {},
   "outputs": [
    {
     "name": "stdout",
     "output_type": "stream",
     "text": [
      "+----+-------+---------+----+------+----------+\n",
      "|ID  |NAME   |Company  |ID  |salary|department|\n",
      "+----+-------+---------+----+------+----------+\n",
      "|3   |rohith |company 2|null|null  |null      |\n",
      "|5   |bobby  |company 1|5   |34000 |Sales     |\n",
      "|null|null   |null     |6   |45000 |HR        |\n",
      "|1   |sravan |company 1|1   |45000 |IT        |\n",
      "|4   |sridevi|company 1|null|null  |null      |\n",
      "|2   |ojaswi |company 1|2   |145000|Manager   |\n",
      "+----+-------+---------+----+------+----------+\n",
      "\n"
     ]
    }
   ],
   "source": [
    "\"\"\" Example 2 - Full Join example \"\"\"\n",
    "df1.join(df2, df1.ID == df2.ID, \"full\").show(truncate=False)"
   ]
  },
  {
   "cell_type": "code",
   "execution_count": 11,
   "metadata": {},
   "outputs": [
    {
     "name": "stdout",
     "output_type": "stream",
     "text": [
      "+---+-------+---------+----+------+----------+\n",
      "|ID |NAME   |Company  |ID  |salary|department|\n",
      "+---+-------+---------+----+------+----------+\n",
      "|3  |rohith |company 2|null|null  |null      |\n",
      "|5  |bobby  |company 1|5   |34000 |Sales     |\n",
      "|1  |sravan |company 1|1   |45000 |IT        |\n",
      "|4  |sridevi|company 1|null|null  |null      |\n",
      "|2  |ojaswi |company 1|2   |145000|Manager   |\n",
      "+---+-------+---------+----+------+----------+\n",
      "\n"
     ]
    }
   ],
   "source": [
    "\"\"\" Example 3 - Left Join example \"\"\"\n",
    "df1.join(df2, df1.ID == df2.ID, \"left\").show(truncate=False)"
   ]
  },
  {
   "cell_type": "code",
   "execution_count": 12,
   "metadata": {},
   "outputs": [
    {
     "name": "stdout",
     "output_type": "stream",
     "text": [
      "+----+------+---------+---+------+----------+\n",
      "|ID  |NAME  |Company  |ID |salary|department|\n",
      "+----+------+---------+---+------+----------+\n",
      "|5   |bobby |company 1|5  |34000 |Sales     |\n",
      "|null|null  |null     |6  |45000 |HR        |\n",
      "|1   |sravan|company 1|1  |45000 |IT        |\n",
      "|2   |ojaswi|company 1|2  |145000|Manager   |\n",
      "+----+------+---------+---+------+----------+\n",
      "\n"
     ]
    }
   ],
   "source": [
    "\"\"\" Example 4 - Right join example \"\"\"\n",
    "df1.join(df2, df1.ID == df2.ID, \"right\").show(truncate=False)"
   ]
  },
  {
   "cell_type": "code",
   "execution_count": 13,
   "metadata": {},
   "outputs": [
    {
     "name": "stdout",
     "output_type": "stream",
     "text": [
      "+---+------+---------+---+------+----------+\n",
      "|ID |NAME  |Company  |ID |salary|department|\n",
      "+---+------+---------+---+------+----------+\n",
      "|5  |bobby |company 1|5  |34000 |Sales     |\n",
      "|1  |sravan|company 1|1  |45000 |IT        |\n",
      "|2  |ojaswi|company 1|2  |145000|Manager   |\n",
      "+---+------+---------+---+------+----------+\n",
      "\n"
     ]
    }
   ],
   "source": [
    "\"\"\" Example 5 - Inner Join using SQL syntax \"\"\"\n",
    "\n",
    "## setting temporary views by creating dataframes\n",
    "# creating a view for df1 named employees\n",
    "df1.createOrReplaceTempView(\"Employees\")\n",
    "  \n",
    "# creating a view for df2 named department\n",
    "df2.createOrReplaceTempView(\"Department\")\n",
    "\n",
    "\"\"\" Example 5 - Inner Join based on ID \"\"\"\n",
    "spark.sql(\"SELECT * \\\n",
    "    FROM Employees AS E INNER JOIN \\\n",
    "        Department AS D ON E.ID == D.ID\").show(truncate=False)"
   ]
  },
  {
   "cell_type": "code",
   "execution_count": 14,
   "metadata": {},
   "outputs": [
    {
     "name": "stdout",
     "output_type": "stream",
     "text": [
      "+---+-------+---------+----+------+----------+\n",
      "|ID |NAME   |Company  |ID  |salary|department|\n",
      "+---+-------+---------+----+------+----------+\n",
      "|3  |rohith |company 2|null|null  |null      |\n",
      "|5  |bobby  |company 1|5   |34000 |Sales     |\n",
      "|1  |sravan |company 1|1   |45000 |IT        |\n",
      "|4  |sridevi|company 1|null|null  |null      |\n",
      "|2  |ojaswi |company 1|2   |145000|Manager   |\n",
      "+---+-------+---------+----+------+----------+\n",
      "\n"
     ]
    }
   ],
   "source": [
    "\"\"\" Example 6 - Left Join based on ID \"\"\"\n",
    "spark.sql(\"SELECT * \\\n",
    "    FROM Employees AS E LEFT JOIN \\\n",
    "        Department AS D ON E.ID == D.ID\").show(truncate=False)"
   ]
  },
  {
   "cell_type": "code",
   "execution_count": 15,
   "metadata": {},
   "outputs": [
    {
     "name": "stdout",
     "output_type": "stream",
     "text": [
      "+----+------+---------+---+------+----------+\n",
      "|ID  |NAME  |Company  |ID |salary|department|\n",
      "+----+------+---------+---+------+----------+\n",
      "|5   |bobby |company 1|5  |34000 |Sales     |\n",
      "|null|null  |null     |6  |45000 |HR        |\n",
      "|1   |sravan|company 1|1  |45000 |IT        |\n",
      "|2   |ojaswi|company 1|2  |145000|Manager   |\n",
      "+----+------+---------+---+------+----------+\n",
      "\n"
     ]
    }
   ],
   "source": [
    "\"\"\" Example 7 - Right Join based on ID \"\"\"\n",
    "spark.sql(\"SELECT * \\\n",
    "    FROM Employees AS E RIGHT JOIN \\\n",
    "        Department AS D ON E.ID == D.ID\").show(truncate=False)"
   ]
  },
  {
   "cell_type": "code",
   "execution_count": 16,
   "metadata": {},
   "outputs": [
    {
     "name": "stdout",
     "output_type": "stream",
     "text": [
      "+----+-------+---------+----+------+----------+\n",
      "|ID  |NAME   |Company  |ID  |salary|department|\n",
      "+----+-------+---------+----+------+----------+\n",
      "|3   |rohith |company 2|null|null  |null      |\n",
      "|5   |bobby  |company 1|5   |34000 |Sales     |\n",
      "|null|null   |null     |6   |45000 |HR        |\n",
      "|1   |sravan |company 1|1   |45000 |IT        |\n",
      "|4   |sridevi|company 1|null|null  |null      |\n",
      "|2   |ojaswi |company 1|2   |145000|Manager   |\n",
      "+----+-------+---------+----+------+----------+\n",
      "\n"
     ]
    }
   ],
   "source": [
    "\"\"\" Example 8 - Full Join based on ID \"\"\"\n",
    "spark.sql(\"SELECT * \\\n",
    "    FROM Employees AS E FULL JOIN \\\n",
    "        Department AS D ON E.ID == D.ID\").show(truncate=False)"
   ]
  }
 ],
 "metadata": {
  "interpreter": {
   "hash": "69eb92836b941e979072a76c7fcfffe5419cca933cedd02cfafbdfca1a93358c"
  },
  "kernelspec": {
   "display_name": "Python 3.9.10 64-bit",
   "language": "python",
   "name": "python3"
  },
  "language_info": {
   "codemirror_mode": {
    "name": "ipython",
    "version": 3
   },
   "file_extension": ".py",
   "mimetype": "text/x-python",
   "name": "python",
   "nbconvert_exporter": "python",
   "pygments_lexer": "ipython3",
   "version": "3.9.10"
  },
  "orig_nbformat": 4
 },
 "nbformat": 4,
 "nbformat_minor": 2
}
